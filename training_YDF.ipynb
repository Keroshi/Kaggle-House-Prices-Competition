{
 "cells": [
  {
   "cell_type": "code",
   "id": "initial_id",
   "metadata": {
    "collapsed": true,
    "ExecuteTime": {
     "end_time": "2025-05-06T02:42:37.270545Z",
     "start_time": "2025-05-06T02:42:37.253411Z"
    }
   },
   "source": [
    "import ydf\n",
    "import pandas as pd\n",
    "from ydf import Task\n",
    "\n",
    "# Load your data as a Pandas DataFrame\n",
    "data = pd.read_csv(\"./inputs/train.csv\")"
   ],
   "outputs": [],
   "execution_count": 13
  },
  {
   "metadata": {
    "ExecuteTime": {
     "end_time": "2025-05-06T02:42:37.285644Z",
     "start_time": "2025-05-06T02:42:37.274417Z"
    }
   },
   "cell_type": "code",
   "source": [
    "# Split into train and test sets (adjust as needed)\n",
    "import numpy as np\n",
    "\n",
    "\n",
    "def split_dataset(dataset, test_ratio=0.20):\n",
    "    test_indices = np.random.rand(len(dataset)) < test_ratio\n",
    "    return dataset[~test_indices], dataset[test_indices]\n",
    "\n",
    "\n",
    "train_data, test_data = split_dataset(data)\n",
    "print(\"{} examples in training, {} examples in testing.\".format(\n",
    "    len(train_data), len(test_data)))"
   ],
   "id": "f3cfdf4b9a5f81e1",
   "outputs": [
    {
     "name": "stdout",
     "output_type": "stream",
     "text": [
      "1159 examples in training, 301 examples in testing.\n"
     ]
    }
   ],
   "execution_count": 14
  },
  {
   "metadata": {
    "ExecuteTime": {
     "end_time": "2025-05-06T02:42:37.330111Z",
     "start_time": "2025-05-06T02:42:37.325740Z"
    }
   },
   "cell_type": "code",
   "source": [
    "# Define the label column\n",
    "label = \"SalePrice\""
   ],
   "id": "21f7ad5aa53f5fc9",
   "outputs": [],
   "execution_count": 15
  },
  {
   "metadata": {
    "ExecuteTime": {
     "end_time": "2025-05-06T02:42:37.377024Z",
     "start_time": "2025-05-06T02:42:37.370875Z"
    }
   },
   "cell_type": "code",
   "source": [
    "# Initialize the learner (regression task shown here)\n",
    "learner = ydf.RandomForestLearner(label=label, task=Task.REGRESSION)"
   ],
   "id": "1a00f9f91057884c",
   "outputs": [],
   "execution_count": 16
  },
  {
   "metadata": {
    "ExecuteTime": {
     "end_time": "2025-05-06T02:42:37.968826Z",
     "start_time": "2025-05-06T02:42:37.410898Z"
    }
   },
   "cell_type": "code",
   "source": [
    "# Train the model\n",
    "model = learner.train(train_data)"
   ],
   "id": "5fc50c9897613f4c",
   "outputs": [
    {
     "name": "stdout",
     "output_type": "stream",
     "text": [
      "Train model on 1159 examples\n",
      "Model trained in 0:00:00.523073\n"
     ]
    }
   ],
   "execution_count": 17
  },
  {
   "metadata": {
    "ExecuteTime": {
     "end_time": "2025-05-06T02:42:38.045501Z",
     "start_time": "2025-05-06T02:42:38.000490Z"
    }
   },
   "cell_type": "code",
   "source": [
    "# Evaluate on the test set\n",
    "evaluation = model.evaluate(test_data)\n",
    "\n",
    "# For regression, print RMSE\n",
    "print(\"Root Mean Squared Error (RMSE):\", evaluation.rmse)"
   ],
   "id": "1906ab62900e427f",
   "outputs": [
    {
     "name": "stdout",
     "output_type": "stream",
     "text": [
      "Root Mean Squared Error (RMSE): 26977.459944623017\n"
     ]
    }
   ],
   "execution_count": 18
  },
  {
   "metadata": {
    "ExecuteTime": {
     "end_time": "2025-05-06T02:42:38.148894Z",
     "start_time": "2025-05-06T02:42:38.077969Z"
    }
   },
   "cell_type": "code",
   "source": [
    "# Optional: Save the model\n",
    "model.save(\"my_ydf_model\")"
   ],
   "id": "298ff377b012a9f3",
   "outputs": [],
   "execution_count": 19
  },
  {
   "metadata": {
    "ExecuteTime": {
     "end_time": "2025-05-06T02:42:38.192697Z",
     "start_time": "2025-05-06T02:42:38.180386Z"
    }
   },
   "cell_type": "code",
   "source": [
    "from sklearn.metrics import root_mean_squared_log_error\n",
    "\n",
    "# Predict on the test set\n",
    "predictions = model.predict(test_data)\n",
    "\n",
    "# Extract true labels\n",
    "true_values = test_data[\"SalePrice\"]  # Replace \"price\" with your label column name\n",
    "\n",
    "# Compute RMSLE\n",
    "rmsle = root_mean_squared_log_error(true_values, predictions)\n",
    "print(\"Root Mean Squared Logarithmic Error (RMSLE):\", rmsle)"
   ],
   "id": "68ae73c716480221",
   "outputs": [
    {
     "name": "stdout",
     "output_type": "stream",
     "text": [
      "Root Mean Squared Logarithmic Error (RMSLE): 0.1471043974161148\n"
     ]
    }
   ],
   "execution_count": 20
  },
  {
   "metadata": {
    "ExecuteTime": {
     "end_time": "2025-05-06T02:42:38.238592Z",
     "start_time": "2025-05-06T02:42:38.227236Z"
    }
   },
   "cell_type": "code",
   "source": [
    "dir(model)\n",
    "model.variable_importances()[\"NUM_AS_ROOT\"]"
   ],
   "id": "6d64a6193536d865",
   "outputs": [
    {
     "data": {
      "text/plain": [
       "[(104.0, 'OverallQual'),\n",
       " (49.0, 'GarageCars'),\n",
       " (36.0, 'ExterQual'),\n",
       " (35.0, 'GrLivArea'),\n",
       " (29.0, 'YearBuilt'),\n",
       " (18.0, 'TotalBsmtSF'),\n",
       " (13.0, 'BsmtQual'),\n",
       " (4.0, '1stFlrSF'),\n",
       " (4.0, 'GarageArea'),\n",
       " (2.0, 'BsmtFinSF1'),\n",
       " (2.0, 'KitchenQual'),\n",
       " (2.0, 'GarageYrBlt'),\n",
       " (1.0, 'Foundation'),\n",
       " (1.0, 'FullBath')]"
      ]
     },
     "execution_count": 21,
     "metadata": {},
     "output_type": "execute_result"
    }
   ],
   "execution_count": 21
  },
  {
   "metadata": {
    "ExecuteTime": {
     "end_time": "2025-05-06T02:42:38.427002Z",
     "start_time": "2025-05-06T02:42:38.282265Z"
    }
   },
   "cell_type": "code",
   "source": [
    "import matplotlib.pyplot as plt\n",
    "\n",
    "plt.figure(figsize=(12, 4))\n",
    "\n",
    "# Mean decrease in AUC of the class 1 vs the others.\n",
    "variable_importance_metric = \"NUM_AS_ROOT\"\n",
    "variable_importances = model.variable_importances()[variable_importance_metric]\n",
    "\n",
    "# Extract the feature name and importance values.\n",
    "#\n",
    "# `variable_importances` is a list of <feature, importance> tuples.\n",
    "feature_names = [vi[1] for vi in variable_importances]\n",
    "feature_importances = [vi[0] for vi in variable_importances]\n",
    "\n",
    "# The features are ordered in decreasing importance value.\n",
    "feature_ranks = range(len(feature_names))\n",
    "\n",
    "bar = plt.barh(feature_ranks, feature_importances, label=[str(x) for x in feature_ranks])\n",
    "plt.yticks(feature_ranks, feature_names)\n",
    "plt.gca().invert_yaxis()\n",
    "\n",
    "# TODO: Replace with \"plt.bar_label()\" when available.\n",
    "# Label each bar with values\n",
    "for importance, patch in zip(feature_importances, bar.patches):\n",
    "    plt.text(patch.get_x() + patch.get_width(), patch.get_y(), f\"{importance:.4f}\", va=\"top\")\n",
    "\n",
    "plt.xlabel(variable_importance_metric)\n",
    "plt.title(\"NUM AS ROOT of the class 1 vs the others\")\n",
    "plt.tight_layout()\n",
    "plt.show()"
   ],
   "id": "8baf157c0f7a999f",
   "outputs": [
    {
     "data": {
      "text/plain": [
       "<Figure size 1200x400 with 1 Axes>"
      ],
      "image/png": "[encoded data removed]"
     },
     "metadata": {},
     "output_type": "display_data"
    }
   ],
   "execution_count": 22
  },
  {
   "metadata": {
    "ExecuteTime": {
     "end_time": "2025-05-06T02:42:38.507625Z",
     "start_time": "2025-05-06T02:42:38.470357Z"
    }
   },
   "cell_type": "code",
   "source": [
    "# Predict test data\n",
    "test_file_path = \"./inputs/test.csv\"\n",
    "test_data = pd.read_csv(test_file_path)\n",
    "test_data_copy = test_data.copy()\n",
    "ids = test_data.pop('Id')\n",
    "\n",
    "preds = model.predict(test_data_copy)\n",
    "output = pd.DataFrame({'Id': ids,\n",
    "                       'SalePrice': preds.squeeze()})\n",
    "\n",
    "output.head()"
   ],
   "id": "3a2954db396a0a4f",
   "outputs": [
    {
     "data": {
      "text/plain": [
       "     Id      SalePrice\n",
       "0  1461  127221.984375\n",
       "1  1462  156179.203125\n",
       "2  1463  187142.031250\n",
       "3  1464  187472.968750\n",
       "4  1465  196714.265625"
      ],
      "text/html": [
       "<div>\n",
       "<style scoped>\n",
       "    .dataframe tbody tr th:only-of-type {\n",
       "        vertical-align: middle;\n",
       "    }\n",
       "\n",
       "    .dataframe tbody tr th {\n",
       "        vertical-align: top;\n",
       "    }\n",
       "\n",
       "    .dataframe thead th {\n",
       "        text-align: right;\n",
       "    }\n",
       "</style>\n",
       "<table border=\"1\" class=\"dataframe\">\n",
       "  <thead>\n",
       "    <tr style=\"text-align: right;\">\n",
       "      <th></th>\n",
       "      <th>Id</th>\n",
       "      <th>SalePrice</th>\n",
       "    </tr>\n",
       "  </thead>\n",
       "  <tbody>\n",
       "    <tr>\n",
       "      <th>0</th>\n",
       "      <td>1461</td>\n",
       "      <td>127221.984375</td>\n",
       "    </tr>\n",
       "    <tr>\n",
       "      <th>1</th>\n",
       "      <td>1462</td>\n",
       "      <td>156179.203125</td>\n",
       "    </tr>\n",
       "    <tr>\n",
       "      <th>2</th>\n",
       "      <td>1463</td>\n",
       "      <td>187142.031250</td>\n",
       "    </tr>\n",
       "    <tr>\n",
       "      <th>3</th>\n",
       "      <td>1464</td>\n",
       "      <td>187472.968750</td>\n",
       "    </tr>\n",
       "    <tr>\n",
       "      <th>4</th>\n",
       "      <td>1465</td>\n",
       "      <td>196714.265625</td>\n",
       "    </tr>\n",
       "  </tbody>\n",
       "</table>\n",
       "</div>"
      ]
     },
     "execution_count": 23,
     "metadata": {},
     "output_type": "execute_result"
    }
   ],
   "execution_count": 23
  },
  {
   "metadata": {
    "ExecuteTime": {
     "end_time": "2025-05-06T02:42:38.578905Z",
     "start_time": "2025-05-06T02:42:38.570463Z"
    }
   },
   "cell_type": "code",
   "source": [
    "# Save the output to a submission file\n",
    "output.to_csv(\"./outputs/submission.csv\", index=False)"
   ],
   "id": "61b01472666720d3",
   "outputs": [],
   "execution_count": 24
  }
 ],
 "metadata": {
  "kernelspec": {
   "display_name": "Python 3",
   "language": "python",
   "name": "python3"
  },
  "language_info": {
   "codemirror_mode": {
    "name": "ipython",
    "version": 2
   },
   "file_extension": ".py",
   "mimetype": "text/x-python",
   "name": "python",
   "nbconvert_exporter": "python",
   "pygments_lexer": "ipython2",
   "version": "2.7.6"
  }
 },
 "nbformat": 4,
 "nbformat_minor": 5
}
