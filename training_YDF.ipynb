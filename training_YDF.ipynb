{
 "cells": [
  {
   "cell_type": "code",
   "id": "initial_id",
   "metadata": {
    "collapsed": true,
    "ExecuteTime": {
     "end_time": "2025-05-05T21:16:13.937718Z",
     "start_time": "2025-05-05T21:16:13.915357Z"
    }
   },
   "source": [
    "import ydf\n",
    "import pandas as pd\n",
    "from ydf import Task\n",
    "\n",
    "# Load your data as a Pandas DataFrame\n",
    "data = pd.read_csv(\"./inputs/train.csv\")"
   ],
   "outputs": [],
   "execution_count": 66
  },
  {
   "metadata": {
    "ExecuteTime": {
     "end_time": "2025-05-05T21:16:13.953314Z",
     "start_time": "2025-05-05T21:16:13.947103Z"
    }
   },
   "cell_type": "code",
   "source": [
    "# Split into train and test sets (adjust as needed)\n",
    "import numpy as np\n",
    "\n",
    "\n",
    "def split_dataset(dataset, test_ratio=0.20):\n",
    "    test_indices = np.random.rand(len(dataset)) < test_ratio\n",
    "    return dataset[~test_indices], dataset[test_indices]\n",
    "\n",
    "\n",
    "train_data, test_data = split_dataset(data)\n",
    "print(\"{} examples in training, {} examples in testing.\".format(\n",
    "    len(train_data), len(test_data)))"
   ],
   "id": "f3cfdf4b9a5f81e1",
   "outputs": [
    {
     "name": "stdout",
     "output_type": "stream",
     "text": [
      "1169 examples in training, 291 examples in testing.\n"
     ]
    }
   ],
   "execution_count": 67
  },
  {
   "metadata": {
    "ExecuteTime": {
     "end_time": "2025-05-05T21:16:13.975799Z",
     "start_time": "2025-05-05T21:16:13.971831Z"
    }
   },
   "cell_type": "code",
   "source": [
    "# Define the label column\n",
    "label = \"SalePrice\""
   ],
   "id": "21f7ad5aa53f5fc9",
   "outputs": [],
   "execution_count": 68
  },
  {
   "metadata": {
    "ExecuteTime": {
     "end_time": "2025-05-05T21:16:14.066083Z",
     "start_time": "2025-05-05T21:16:14.060664Z"
    }
   },
   "cell_type": "code",
   "source": [
    "# Initialize the learner (regression task shown here)\n",
    "learner = ydf.RandomForestLearner(label=label, task=Task.REGRESSION)"
   ],
   "id": "1a00f9f91057884c",
   "outputs": [],
   "execution_count": 69
  },
  {
   "metadata": {
    "ExecuteTime": {
     "end_time": "2025-05-05T21:16:14.634402Z",
     "start_time": "2025-05-05T21:16:14.066083Z"
    }
   },
   "cell_type": "code",
   "source": [
    "# Train the model\n",
    "model = learner.train(train_data)"
   ],
   "id": "5fc50c9897613f4c",
   "outputs": [
    {
     "name": "stdout",
     "output_type": "stream",
     "text": [
      "Train model on 1169 examples\n",
      "Model trained in 0:00:00.507254\n"
     ]
    }
   ],
   "execution_count": 70
  },
  {
   "metadata": {
    "ExecuteTime": {
     "end_time": "2025-05-05T21:16:14.720690Z",
     "start_time": "2025-05-05T21:16:14.657391Z"
    }
   },
   "cell_type": "code",
   "source": [
    "# Evaluate on the test set\n",
    "evaluation = model.evaluate(test_data)\n",
    "\n",
    "# For regression, print RMSE\n",
    "print(\"Root Mean Squared Error (RMSE):\", evaluation.rmse)"
   ],
   "id": "1906ab62900e427f",
   "outputs": [
    {
     "name": "stdout",
     "output_type": "stream",
     "text": [
      "Root Mean Squared Error (RMSE): 22356.900435233358\n"
     ]
    }
   ],
   "execution_count": 71
  },
  {
   "metadata": {
    "ExecuteTime": {
     "end_time": "2025-05-05T21:16:14.820023Z",
     "start_time": "2025-05-05T21:16:14.738176Z"
    }
   },
   "cell_type": "code",
   "source": [
    "# Optional: Save the model\n",
    "model.save(\"my_ydf_model\")"
   ],
   "id": "298ff377b012a9f3",
   "outputs": [],
   "execution_count": 72
  },
  {
   "metadata": {
    "ExecuteTime": {
     "end_time": "2025-05-05T21:16:14.852521Z",
     "start_time": "2025-05-05T21:16:14.835973Z"
    }
   },
   "cell_type": "code",
   "source": [
    "from sklearn.metrics import root_mean_squared_log_error\n",
    "\n",
    "# Predict on the test set\n",
    "predictions = model.predict(test_data)\n",
    "\n",
    "# Extract true labels\n",
    "true_values = test_data[\"SalePrice\"]  # Replace \"price\" with your label column name\n",
    "\n",
    "# Compute RMSLE\n",
    "rmsle = root_mean_squared_log_error(true_values, predictions)\n",
    "print(\"Root Mean Squared Logarithmic Error (RMSLE):\", rmsle)"
   ],
   "id": "68ae73c716480221",
   "outputs": [
    {
     "name": "stdout",
     "output_type": "stream",
     "text": [
      "Root Mean Squared Logarithmic Error (RMSLE): 0.11984148621559143\n"
     ]
    }
   ],
   "execution_count": 73
  },
  {
   "metadata": {
    "ExecuteTime": {
     "end_time": "2025-05-05T21:27:16.021881Z",
     "start_time": "2025-05-05T21:27:15.993523Z"
    }
   },
   "cell_type": "code",
   "source": [
    "dir(model)\n",
    "model.variable_importances()[\"NUM_AS_ROOT\"]"
   ],
   "id": "6d64a6193536d865",
   "outputs": [
    {
     "data": {
      "text/plain": [
       "[(115.0, 'OverallQual'),\n",
       " (54.0, 'ExterQual'),\n",
       " (44.0, 'GarageCars'),\n",
       " (38.0, 'Neighborhood'),\n",
       " (21.0, 'GrLivArea'),\n",
       " (10.0, 'KitchenQual'),\n",
       " (6.0, 'YearBuilt'),\n",
       " (6.0, 'GarageArea'),\n",
       " (2.0, 'BsmtQual'),\n",
       " (2.0, 'TotalBsmtSF'),\n",
       " (1.0, 'FullBath'),\n",
       " (1.0, 'GarageFinish')]"
      ]
     },
     "execution_count": 89,
     "metadata": {},
     "output_type": "execute_result"
    }
   ],
   "execution_count": 89
  },
  {
   "metadata": {
    "ExecuteTime": {
     "end_time": "2025-05-05T21:29:24.323115Z",
     "start_time": "2025-05-05T21:29:24.158650Z"
    }
   },
   "cell_type": "code",
   "source": [
    "import matplotlib.pyplot as plt\n",
    "\n",
    "plt.figure(figsize=(12, 4))\n",
    "\n",
    "# Mean decrease in AUC of the class 1 vs the others.\n",
    "variable_importance_metric = \"NUM_AS_ROOT\"\n",
    "variable_importances = model.variable_importances()[variable_importance_metric]\n",
    "\n",
    "# Extract the feature name and importance values.\n",
    "#\n",
    "# `variable_importances` is a list of <feature, importance> tuples.\n",
    "feature_names = [vi[1] for vi in variable_importances]\n",
    "feature_importances = [vi[0] for vi in variable_importances]\n",
    "\n",
    "# The feature are ordered in decreasing importance value.\n",
    "feature_ranks = range(len(feature_names))\n",
    "\n",
    "bar = plt.barh(feature_ranks, feature_importances, label=[str(x) for x in feature_ranks])\n",
    "plt.yticks(feature_ranks, feature_names)\n",
    "plt.gca().invert_yaxis()\n",
    "\n",
    "# TODO: Replace with \"plt.bar_label()\" when available.\n",
    "# Label each bar with values\n",
    "for importance, patch in zip(feature_importances, bar.patches):\n",
    "  plt.text(patch.get_x() + patch.get_width(), patch.get_y(), f\"{importance:.4f}\", va=\"top\")\n",
    "\n",
    "plt.xlabel(variable_importance_metric)\n",
    "plt.title(\"NUM AS ROOT of the class 1 vs the others\")\n",
    "plt.tight_layout()\n",
    "plt.show()"
   ],
   "id": "8baf157c0f7a999f",
   "outputs": [
    {
     "data": {
      "text/plain": [
       "<Figure size 1200x400 with 1 Axes>"
      ],
      "image/png": "[encoded data removed]"
     },
     "metadata": {},
     "output_type": "display_data"
    }
   ],
   "execution_count": 91
  },
  {
   "metadata": {
    "ExecuteTime": {
     "end_time": "2025-05-05T21:34:11.598032Z",
     "start_time": "2025-05-05T21:34:11.538345Z"
    }
   },
   "cell_type": "code",
   "source": [
    "test_file_path = \"./inputs/test.csv\"\n",
    "test_data = pd.read_csv(test_file_path)\n",
    "test_data_copy = test_data.copy()\n",
    "ids = test_data.pop('Id')\n",
    "\n",
    "preds = model.predict(test_data_copy)\n",
    "output = pd.DataFrame({'Id': ids,\n",
    "                       'SalePrice': preds.squeeze()})\n",
    "\n",
    "output.head()"
   ],
   "id": "3a2954db396a0a4f",
   "outputs": [
    {
     "data": {
      "text/plain": [
       "     Id      SalePrice\n",
       "0  1461  123880.023438\n",
       "1  1462  153739.171875\n",
       "2  1463  179277.343750\n",
       "3  1464  181113.984375\n",
       "4  1465  191130.109375"
      ],
      "text/html": [
       "<div>\n",
       "<style scoped>\n",
       "    .dataframe tbody tr th:only-of-type {\n",
       "        vertical-align: middle;\n",
       "    }\n",
       "\n",
       "    .dataframe tbody tr th {\n",
       "        vertical-align: top;\n",
       "    }\n",
       "\n",
       "    .dataframe thead th {\n",
       "        text-align: right;\n",
       "    }\n",
       "</style>\n",
       "<table border=\"1\" class=\"dataframe\">\n",
       "  <thead>\n",
       "    <tr style=\"text-align: right;\">\n",
       "      <th></th>\n",
       "      <th>Id</th>\n",
       "      <th>SalePrice</th>\n",
       "    </tr>\n",
       "  </thead>\n",
       "  <tbody>\n",
       "    <tr>\n",
       "      <th>0</th>\n",
       "      <td>1461</td>\n",
       "      <td>123880.023438</td>\n",
       "    </tr>\n",
       "    <tr>\n",
       "      <th>1</th>\n",
       "      <td>1462</td>\n",
       "      <td>153739.171875</td>\n",
       "    </tr>\n",
       "    <tr>\n",
       "      <th>2</th>\n",
       "      <td>1463</td>\n",
       "      <td>179277.343750</td>\n",
       "    </tr>\n",
       "    <tr>\n",
       "      <th>3</th>\n",
       "      <td>1464</td>\n",
       "      <td>181113.984375</td>\n",
       "    </tr>\n",
       "    <tr>\n",
       "      <th>4</th>\n",
       "      <td>1465</td>\n",
       "      <td>191130.109375</td>\n",
       "    </tr>\n",
       "  </tbody>\n",
       "</table>\n",
       "</div>"
      ]
     },
     "execution_count": 96,
     "metadata": {},
     "output_type": "execute_result"
    }
   ],
   "execution_count": 96
  },
  {
   "metadata": {
    "ExecuteTime": {
     "end_time": "2025-05-05T21:35:42.790190Z",
     "start_time": "2025-05-05T21:35:42.774359Z"
    }
   },
   "cell_type": "code",
   "source": [
    "# Save the output to a submission file\n",
    "output.to_csv(\"./outputs/submission.csv\", index=False)"
   ],
   "id": "61b01472666720d3",
   "outputs": [],
   "execution_count": 97
  }
 ],
 "metadata": {
  "kernelspec": {
   "display_name": "Python 3",
   "language": "python",
   "name": "python3"
  },
  "language_info": {
   "codemirror_mode": {
    "name": "ipython",
    "version": 2
   },
   "file_extension": ".py",
   "mimetype": "text/x-python",
   "name": "python",
   "nbconvert_exporter": "python",
   "pygments_lexer": "ipython2",
   "version": "2.7.6"
  }
 },
 "nbformat": 4,
 "nbformat_minor": 5
}
